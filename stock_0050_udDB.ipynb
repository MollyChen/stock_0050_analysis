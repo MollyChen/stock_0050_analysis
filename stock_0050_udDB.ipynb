{
 "cells": [
  {
   "cell_type": "code",
   "execution_count": 1,
   "metadata": {},
   "outputs": [],
   "source": [
    "import pandas as pd\n",
    "from datetime import datetime, date\n",
    "import shenghui_0050_func\n",
    "import sqlite3\n",
    "import os\n",
    "import time"
   ]
  },
  {
   "cell_type": "code",
   "execution_count": 2,
   "metadata": {},
   "outputs": [],
   "source": [
    "conn = sqlite3.connect(os.path.join('data','data.db'))"
   ]
  },
  {
   "cell_type": "code",
   "execution_count": 3,
   "metadata": {},
   "outputs": [
    {
     "name": "stdout",
     "output_type": "stream",
     "text": [
      "new add dates:: [datetime.date(2020, 10, 17)]\n",
      "2015\n",
      "new add dates:: [datetime.date(2020, 10, 17)]\n",
      "2014\n",
      "new add dates:: [datetime.date(2020, 10, 17)]\n",
      "2013\n",
      "new add dates:: [datetime.date(2020, 10, 17)]\n",
      "2012\n",
      "new add dates:: [datetime.date(2020, 10, 17)]\n",
      "**WARRN: cannot get stock price at 2020-10-17\n",
      "name 'ReadTimeout' is not defined\n",
      "2011\n",
      "new add dates:: [datetime.date(2020, 10, 17)]\n",
      "2010\n"
     ]
    }
   ],
   "source": [
    "for i in range(2015,2009,-1):\n",
    "    shenghui_0050_func.crawl_all_addsql(conn, 'day_price', '0050', date(i,1,1))\n",
    "    print(i)\n",
    "    time.sleep(5)"
   ]
  },
  {
   "cell_type": "markdown",
   "metadata": {},
   "source": [
    "## 把新增失敗的年月再執行一次"
   ]
  },
  {
   "cell_type": "code",
   "execution_count": 4,
   "metadata": {},
   "outputs": [],
   "source": [
    "df = pd.read_sql('select 日期 from day_price', conn)\n",
    "df['年月'] = df['日期'].apply(lambda s: s[:7].replace(\"-\",\"\"))\n",
    "df_ym = df['年月'].drop_duplicates().to_frame().set_index(['年月'])"
   ]
  },
  {
   "cell_type": "code",
   "execution_count": 5,
   "metadata": {},
   "outputs": [
    {
     "name": "stdout",
     "output_type": "stream",
     "text": [
      "201808\n",
      "201712\n",
      "201609\n",
      "201405\n",
      "201406\n",
      "201208\n",
      "[datetime.date(2018, 8, 1), datetime.date(2017, 12, 1), datetime.date(2016, 9, 1), datetime.date(2014, 5, 1), datetime.date(2014, 6, 1), datetime.date(2012, 8, 1)]\n"
     ]
    }
   ],
   "source": [
    "lst_dt =[]\n",
    "for y in range(2019, 2009, -1):\n",
    "    for m in range(1, 13):\n",
    "        ym = str(y)+'{:02d}'.format(m)\n",
    "        if ym not in df_ym.index:\n",
    "            print(ym)\n",
    "            lst_dt.append(date(int(ym[:4]), int(ym[4:]),1))\n",
    "print(lst_dt)"
   ]
  },
  {
   "cell_type": "code",
   "execution_count": 6,
   "metadata": {},
   "outputs": [
    {
     "name": "stdout",
     "output_type": "stream",
     "text": [
      "new add dates:: [datetime.date(2018, 8, 1), datetime.date(2017, 12, 1), datetime.date(2016, 9, 1), datetime.date(2014, 5, 1), datetime.date(2014, 6, 1), datetime.date(2012, 8, 1)]\n"
     ]
    }
   ],
   "source": [
    "shenghui_0050_func.crawl_addsql(conn, 'day_price', '0050', lst_dt)"
   ]
  }
 ],
 "metadata": {
  "kernelspec": {
   "display_name": "Python 3",
   "language": "python",
   "name": "python3"
  },
  "language_info": {
   "codemirror_mode": {
    "name": "ipython",
    "version": 3
   },
   "file_extension": ".py",
   "mimetype": "text/x-python",
   "name": "python",
   "nbconvert_exporter": "python",
   "pygments_lexer": "ipython3",
   "version": "3.7.4"
  }
 },
 "nbformat": 4,
 "nbformat_minor": 4
}
